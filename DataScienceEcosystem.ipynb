{
 "cells": [
  {
   "cell_type": "markdown",
   "id": "956a5b83",
   "metadata": {},
   "source": [
    "# Data Science Tools and Ecosystem"
   ]
  },
  {
   "cell_type": "markdown",
   "id": "4a04cf3e",
   "metadata": {},
   "source": [
    "In this notebook, Data Science Tools and Ecosystem are summarized."
   ]
  },
  {
   "cell_type": "markdown",
   "id": "dd00ec9c",
   "metadata": {},
   "source": [
    "Some of the popular languages that Data Scientists use are:\n",
    " 1. Python\n",
    " 2. R\n",
    " 3. SQL\n",
    " 4. Scala\n",
    " 5. Java\n",
    " 6. C++\n",
    " 7. Julia\n",
    " 8. Javascript\n",
    " 9. Php\n",
    " 10. Go"
   ]
  },
  {
   "cell_type": "markdown",
   "id": "8c122a0d",
   "metadata": {},
   "source": [
    "**Objectives:**\n",
    "* Add comments to code cells\n",
    "* Create markdown cells\n",
    "* Add ordered and unordered lists to markdown cells\n",
    "* Format content of markdown cells with heading styles"
   ]
  },
  {
   "cell_type": "markdown",
   "id": "5f749a66",
   "metadata": {},
   "source": [
    "Some of the commonly used libraries used by Data Scientistd include:\n",
    "1. Pandas\n",
    "2. Numpy\n",
    "3. Matplotlib\n",
    "4. Seaborn\n",
    "5. Scikit-learn\n",
    "6. Keras\n",
    "7. TensorFlow \n",
    "8. PyTorch\n",
    "9. Apache Spark\n",
    "10. Vegas"
   ]
  },
  {
   "cell_type": "markdown",
   "id": "99a7cbf6",
   "metadata": {},
   "source": [
    "| Data Science Tools|\n",
    "|  :----: |\n",
    "| Anaconda |\n",
    "| Jupter Notebooks |\n",
    "| R Studia|\n",
    "| Spyder|\n",
    "| Zeppelin|"
   ]
  },
  {
   "cell_type": "markdown",
   "id": "a07f0e8d",
   "metadata": {},
   "source": [
    "### Below are a few examples of evaluating arithmetic expressions in Python"
   ]
  },
  {
   "cell_type": "code",
   "execution_count": 1,
   "id": "a6b3a86f",
   "metadata": {},
   "outputs": [
    {
     "data": {
      "text/plain": [
       "17"
      ]
     },
     "execution_count": 1,
     "metadata": {},
     "output_type": "execute_result"
    }
   ],
   "source": [
    "# This a simple arithmetic expression to mutiply then add integers.\n",
    "(3*4)+5"
   ]
  },
  {
   "cell_type": "code",
   "execution_count": 2,
   "id": "648279ec",
   "metadata": {},
   "outputs": [
    {
     "data": {
      "text/plain": [
       "3"
      ]
     },
     "execution_count": 2,
     "metadata": {},
     "output_type": "execute_result"
    }
   ],
   "source": [
    "# This will convert 200 minutes to hours by diving by 60\n",
    "200//60"
   ]
  },
  {
   "cell_type": "markdown",
   "id": "daae194a",
   "metadata": {},
   "source": [
    "##  Author(s)\n",
    "Chia Hsin, Wu"
   ]
  }
 ],
 "metadata": {
  "kernelspec": {
   "display_name": "Python 3 (ipykernel)",
   "language": "python",
   "name": "python3"
  },
  "language_info": {
   "codemirror_mode": {
    "name": "ipython",
    "version": 3
   },
   "file_extension": ".py",
   "mimetype": "text/x-python",
   "name": "python",
   "nbconvert_exporter": "python",
   "pygments_lexer": "ipython3",
   "version": "3.9.13"
  }
 },
 "nbformat": 4,
 "nbformat_minor": 5
}
